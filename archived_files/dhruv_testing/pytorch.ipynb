{
 "cells": [
  {
   "cell_type": "code",
   "execution_count": 1,
   "metadata": {},
   "outputs": [
    {
     "name": "stdout",
     "output_type": "stream",
     "text": [
      "Populating the interactive namespace from numpy and matplotlib\n"
     ]
    }
   ],
   "source": [
    "import torch\n",
    "import torch.nn as nn\n",
    "import torchvision\n",
    "\n",
    "import numpy as np\n",
    "from PIL import Image\n",
    "from tqdm import tqdm\n",
    "from livelossplot import PlotLosses\n",
    "\n",
    "from sklearn.metrics import classification_report, f1_score\n",
    "%pylab inline\n",
    "device = torch.device(\"cuda:0\" if torch.cuda.is_available() else \"cpu\")"
   ]
  },
  {
   "cell_type": "code",
   "execution_count": 2,
   "metadata": {},
   "outputs": [],
   "source": [
    "# Change path to root folder of the data provided\n",
    "path_to_data = 'flowers/'\n",
    "\n",
    "# a dataset abstraction that figures out classes on it's own based on what folder the images were in\n",
    "_data = torchvision.datasets.DatasetFolder(\n",
    "    path_to_data,                                  # root path, it'll get paths to actual images on it's own\n",
    "    Image.open,                                    # pillow open image function to load data from given path\n",
    "    ['jpg', 'JPG'],                                # list of extensions for images in dataset\n",
    "    transform = torchvision.transforms.Compose([   # a pipeline of transformations to apply on the read image\n",
    "        torchvision.transforms.Resize((224, 224)),\n",
    "        torchvision.transforms.ToTensor(),\n",
    "        torchvision.transforms.Normalize(mean=[0.485, 0.456, 0.406], # the documentation said that alexnet was modelled with\n",
    "                                 std=[0.229, 0.224, 0.225])          # images using this normalisation parameters\n",
    "    ]),\n",
    ")"
   ]
  },
  {
   "cell_type": "code",
   "execution_count": 3,
   "metadata": {},
   "outputs": [],
   "source": [
    "# some unfortunate ugly code to split the data randomly into training and testing\n",
    "split_at = 0.8\n",
    "train, test = torch.utils.data.random_split(\n",
    "    _data,\n",
    "    [int(split_at*(len(_data))), len(_data) - int(split_at*(len(_data)))]\n",
    ")"
   ]
  },
  {
   "cell_type": "code",
   "execution_count": 4,
   "metadata": {},
   "outputs": [],
   "source": [
    "batch_size = 96\n",
    "# defining loaders for the train and test datasets\n",
    "train_batches = torch.utils.data.DataLoader(\n",
    "    train,                                       # dataset \n",
    "    batch_size=batch_size,                       # size of batches to load\n",
    "    shuffle=True,\n",
    "    num_workers=8,                               # no of workers\n",
    "    pin_memory=True                              # Host to GPU copies are much faster when they originate from pinned (page-locked) memory. CPU tensors and storages expose a pin_memory() method, that returns a copy of the object, with data put in a pinned region.\n",
    ") \n",
    "\n",
    "test_batches = torch.utils.data.DataLoader(\n",
    "    test,                                       # dataset \n",
    "    batch_size=batch_size,                      # size of batches to load\n",
    "    shuffle=True,\n",
    "    num_workers=8,                               # no of workers\n",
    "    pin_memory=True                              # Host to GPU copies are much faster when they originate from pinned (page-locked) memory. CPU tensors and storages expose a pin_memory() method, that returns a copy of the object, with data put in a pinned region.\n",
    ") "
   ]
  },
  {
   "cell_type": "code",
   "execution_count": 5,
   "metadata": {},
   "outputs": [
    {
     "name": "stderr",
     "output_type": "stream",
     "text": [
      "c:\\users\\dhruv\\appdata\\local\\programs\\python\\python36\\lib\\site-packages\\torchvision\\models\\squeezenet.py:94: UserWarning: nn.init.kaiming_uniform is now deprecated in favor of nn.init.kaiming_uniform_.\n",
      "  init.kaiming_uniform(m.weight.data)\n",
      "c:\\users\\dhruv\\appdata\\local\\programs\\python\\python36\\lib\\site-packages\\torchvision\\models\\squeezenet.py:92: UserWarning: nn.init.normal is now deprecated in favor of nn.init.normal_.\n",
      "  init.normal(m.weight.data, mean=0.0, std=0.01)\n"
     ]
    },
    {
     "data": {
      "text/plain": [
       "SqueezeNet(\n",
       "  (features): Sequential(\n",
       "    (0): Conv2d(3, 64, kernel_size=(3, 3), stride=(2, 2))\n",
       "    (1): ReLU(inplace)\n",
       "    (2): MaxPool2d(kernel_size=3, stride=2, padding=0, dilation=1, ceil_mode=True)\n",
       "    (3): Fire(\n",
       "      (squeeze): Conv2d(64, 16, kernel_size=(1, 1), stride=(1, 1))\n",
       "      (squeeze_activation): ReLU(inplace)\n",
       "      (expand1x1): Conv2d(16, 64, kernel_size=(1, 1), stride=(1, 1))\n",
       "      (expand1x1_activation): ReLU(inplace)\n",
       "      (expand3x3): Conv2d(16, 64, kernel_size=(3, 3), stride=(1, 1), padding=(1, 1))\n",
       "      (expand3x3_activation): ReLU(inplace)\n",
       "    )\n",
       "    (4): Fire(\n",
       "      (squeeze): Conv2d(128, 16, kernel_size=(1, 1), stride=(1, 1))\n",
       "      (squeeze_activation): ReLU(inplace)\n",
       "      (expand1x1): Conv2d(16, 64, kernel_size=(1, 1), stride=(1, 1))\n",
       "      (expand1x1_activation): ReLU(inplace)\n",
       "      (expand3x3): Conv2d(16, 64, kernel_size=(3, 3), stride=(1, 1), padding=(1, 1))\n",
       "      (expand3x3_activation): ReLU(inplace)\n",
       "    )\n",
       "    (5): MaxPool2d(kernel_size=3, stride=2, padding=0, dilation=1, ceil_mode=True)\n",
       "    (6): Fire(\n",
       "      (squeeze): Conv2d(128, 32, kernel_size=(1, 1), stride=(1, 1))\n",
       "      (squeeze_activation): ReLU(inplace)\n",
       "      (expand1x1): Conv2d(32, 128, kernel_size=(1, 1), stride=(1, 1))\n",
       "      (expand1x1_activation): ReLU(inplace)\n",
       "      (expand3x3): Conv2d(32, 128, kernel_size=(3, 3), stride=(1, 1), padding=(1, 1))\n",
       "      (expand3x3_activation): ReLU(inplace)\n",
       "    )\n",
       "    (7): Fire(\n",
       "      (squeeze): Conv2d(256, 32, kernel_size=(1, 1), stride=(1, 1))\n",
       "      (squeeze_activation): ReLU(inplace)\n",
       "      (expand1x1): Conv2d(32, 128, kernel_size=(1, 1), stride=(1, 1))\n",
       "      (expand1x1_activation): ReLU(inplace)\n",
       "      (expand3x3): Conv2d(32, 128, kernel_size=(3, 3), stride=(1, 1), padding=(1, 1))\n",
       "      (expand3x3_activation): ReLU(inplace)\n",
       "    )\n",
       "    (8): MaxPool2d(kernel_size=3, stride=2, padding=0, dilation=1, ceil_mode=True)\n",
       "    (9): Fire(\n",
       "      (squeeze): Conv2d(256, 48, kernel_size=(1, 1), stride=(1, 1))\n",
       "      (squeeze_activation): ReLU(inplace)\n",
       "      (expand1x1): Conv2d(48, 192, kernel_size=(1, 1), stride=(1, 1))\n",
       "      (expand1x1_activation): ReLU(inplace)\n",
       "      (expand3x3): Conv2d(48, 192, kernel_size=(3, 3), stride=(1, 1), padding=(1, 1))\n",
       "      (expand3x3_activation): ReLU(inplace)\n",
       "    )\n",
       "    (10): Fire(\n",
       "      (squeeze): Conv2d(384, 48, kernel_size=(1, 1), stride=(1, 1))\n",
       "      (squeeze_activation): ReLU(inplace)\n",
       "      (expand1x1): Conv2d(48, 192, kernel_size=(1, 1), stride=(1, 1))\n",
       "      (expand1x1_activation): ReLU(inplace)\n",
       "      (expand3x3): Conv2d(48, 192, kernel_size=(3, 3), stride=(1, 1), padding=(1, 1))\n",
       "      (expand3x3_activation): ReLU(inplace)\n",
       "    )\n",
       "    (11): Fire(\n",
       "      (squeeze): Conv2d(384, 64, kernel_size=(1, 1), stride=(1, 1))\n",
       "      (squeeze_activation): ReLU(inplace)\n",
       "      (expand1x1): Conv2d(64, 256, kernel_size=(1, 1), stride=(1, 1))\n",
       "      (expand1x1_activation): ReLU(inplace)\n",
       "      (expand3x3): Conv2d(64, 256, kernel_size=(3, 3), stride=(1, 1), padding=(1, 1))\n",
       "      (expand3x3_activation): ReLU(inplace)\n",
       "    )\n",
       "    (12): Fire(\n",
       "      (squeeze): Conv2d(512, 64, kernel_size=(1, 1), stride=(1, 1))\n",
       "      (squeeze_activation): ReLU(inplace)\n",
       "      (expand1x1): Conv2d(64, 256, kernel_size=(1, 1), stride=(1, 1))\n",
       "      (expand1x1_activation): ReLU(inplace)\n",
       "      (expand3x3): Conv2d(64, 256, kernel_size=(3, 3), stride=(1, 1), padding=(1, 1))\n",
       "      (expand3x3_activation): ReLU(inplace)\n",
       "    )\n",
       "  )\n",
       "  (classifier): Sequential(\n",
       "    (0): Dropout(p=0.5)\n",
       "    (1): Conv2d(512, 1000, kernel_size=(1, 1), stride=(1, 1))\n",
       "    (2): ReLU(inplace)\n",
       "    (3): AvgPool2d(kernel_size=13, stride=1, padding=0)\n",
       "  )\n",
       ")"
      ]
     },
     "execution_count": 5,
     "metadata": {},
     "output_type": "execute_result"
    }
   ],
   "source": [
    "# it'll download alexnet weights on it's own\n",
    "squeezenet = torchvision.models.squeezenet1_1(\n",
    "    pretrained=True,\n",
    ")\n",
    "squeezenet"
   ]
  },
  {
   "cell_type": "code",
   "execution_count": 6,
   "metadata": {},
   "outputs": [],
   "source": [
    "# get list of classes from names of folders inside the path to data\n",
    "import os\n",
    "label_names = os.listdir(path_to_data)\n",
    "\n",
    "# set num of classes, so as to set the output dimensions\n",
    "squeezenet.num_classes = len(label_names)"
   ]
  },
  {
   "cell_type": "code",
   "execution_count": 7,
   "metadata": {},
   "outputs": [
    {
     "data": {
      "text/plain": [
       "Sequential(\n",
       "  (0): Dropout(p=0.5)\n",
       "  (1): Conv2d(512, 5, kernel_size=(1, 1), stride=(1, 1))\n",
       "  (2): ReLU(inplace)\n",
       "  (3): AvgPool2d(kernel_size=13, stride=1, padding=0)\n",
       ")"
      ]
     },
     "execution_count": 7,
     "metadata": {},
     "output_type": "execute_result"
    }
   ],
   "source": [
    "# create new instances of the same layers, to get rid of the pretrained weights in the classification layers\n",
    "# we want to learn our own\n",
    "layers = [\n",
    "#     nn.BatchNorm2d(512),\n",
    "    nn.Dropout(0.5),\n",
    "    nn.Conv2d(512, squeezenet.num_classes, kernel_size=(1, 1), stride=(1, 1)),\n",
    "#     nn.BatchNorm2d(squeezenet.num_classes),\n",
    "    nn.ReLU(inplace=True),\n",
    "#     nn.Dropout(0.5),\n",
    "    nn.AvgPool2d(kernel_size=13, stride=1, padding=0)\n",
    "]\n",
    "\n",
    "# change the classification layers to the untrained ones we just defined\n",
    "# I am not sure why this syntax works, I found it in a medium article\n",
    "squeezenet.classifier = nn.Sequential(*layers)\n",
    "# but it gets the job done\n",
    "squeezenet.classifier"
   ]
  },
  {
   "cell_type": "code",
   "execution_count": 8,
   "metadata": {},
   "outputs": [],
   "source": [
    "loss = nn.CrossEntropyLoss()                # loss function\n",
    "# it's softmax followed by Negative Log Likelihood loss\n",
    "\n",
    "# defining an optimizer\n",
    "optimizer = torch.optim.Adam(\n",
    "    squeezenet.parameters(),   \n",
    "    lr=1e-4,\n",
    "    amsgrad = True\n",
    ")\n",
    "\n",
    "squeezenet.to(device)           # load up all the weights to cuda device memory, if available\n",
    "live_losses = PlotLosses()   # a tool for drawing plots"
   ]
  },
  {
   "cell_type": "code",
   "execution_count": 9,
   "metadata": {},
   "outputs": [
    {
     "data": {
      "image/png": "[encoded data removed]",
      "text/plain": [
       "<Figure size 864x864 with 4 Axes>"
      ]
     },
     "metadata": {
      "needs_background": "light"
     },
     "output_type": "display_data"
    }
   ],
   "source": [
    "# training\n",
    "for epoch in range(20):\n",
    "    squeezenet.train()  # set model to train mode. not sure what that does, probably some optimisations\n",
    "    \n",
    "    train_errors = []  \n",
    "    test_errors = []\n",
    "    for i, batch in enumerate(tqdm(train_batches)):\n",
    "        X, Y = batch\n",
    "        pred = squeezenet(X.to(device))\n",
    "        \n",
    "        optimizer.zero_grad()               # reset the gradients\n",
    "        error = loss(pred, Y.to(device))    # get loss\n",
    "        error.backward()                    # propogate loss backwards\n",
    "        optimizer.step()                    # update params\n",
    "        \n",
    "        train_errors.append(error.data.item())\n",
    "        \n",
    "    \n",
    "    squeezenet.eval()  # set model to evaluate mode. not sure what that does exactly\n",
    "    \n",
    "    # some code to calculate f1 score for the test set\n",
    "    predict = lambda x: torch.argmax(x, dim=1).cpu().numpy()\n",
    "    test_predictions = []\n",
    "    test_actual = []\n",
    "    for batch in test_batches:\n",
    "        x, y = batch\n",
    "        pred = squeezenet(x.to(device))\n",
    "        test_predictions.append(predict(pred))\n",
    "        test_errors.append(loss(pred, y.to(device)).data.item())    # get loss\n",
    "        test_actual.append(np.array(y))\n",
    "    \n",
    "    train_predictions = []\n",
    "    train_actual = []\n",
    "    for batch in train_batches:\n",
    "        x, y = batch\n",
    "        pred = squeezenet(x.to(device))\n",
    "        train_predictions.append(predict(pred))\n",
    "        train_actual.append(np.array(y))\n",
    "\n",
    "    # log data to be plotted later\n",
    "    live_losses.update({\n",
    "        'train_loss': np.mean(np.array(train_errors)),\n",
    "        'test_loss': np.mean(np.array(test_errors)),\n",
    "        'train_f1': f1_score(np.concatenate(train_actual), np.concatenate(train_predictions), average='weighted'),\n",
    "        'test_f1': f1_score(np.concatenate(test_actual), np.concatenate(test_predictions), average='weighted'),\n",
    "    })\n",
    "    live_losses.draw() # plot loss curves    \n",
    "\n",
    "\n"
   ]
  },
  {
   "cell_type": "code",
   "execution_count": 10,
   "metadata": {},
   "outputs": [
    {
     "name": "stdout",
     "output_type": "stream",
     "text": [
      "              precision    recall  f1-score   support\n",
      "\n",
      "       daisy       0.98      0.99      0.98       609\n",
      "   dandelion       1.00      0.97      0.98       843\n",
      "        rose       0.99      0.96      0.98       644\n",
      "   sunflower       0.98      0.99      0.98       591\n",
      "       tulip       0.96      0.99      0.97       771\n",
      "\n",
      "   micro avg       0.98      0.98      0.98      3458\n",
      "   macro avg       0.98      0.98      0.98      3458\n",
      "weighted avg       0.98      0.98      0.98      3458\n",
      "\n",
      "              precision    recall  f1-score   support\n",
      "\n",
      "       daisy       0.90      0.93      0.91       160\n",
      "   dandelion       0.95      0.88      0.92       209\n",
      "        rose       0.87      0.82      0.85       140\n",
      "   sunflower       0.87      0.94      0.91       143\n",
      "       tulip       0.87      0.90      0.88       213\n",
      "\n",
      "   micro avg       0.89      0.89      0.89       865\n",
      "   macro avg       0.89      0.89      0.89       865\n",
      "weighted avg       0.90      0.89      0.89       865\n",
      "\n"
     ]
    }
   ],
   "source": [
    "# # some code to calculate f1 score for the test set\n",
    "# predict = lambda x: torch.argmax(x, dim=1).cpu().numpy()\n",
    "# test_predictions = []\n",
    "# test_actual = []\n",
    "# for batch in test_batches:\n",
    "#     x, y = batch\n",
    "#     pred = squeezenet(x.to(device))\n",
    "#     test_predictions.append(predict(pred))\n",
    "#     test_errors.append(loss(pred, y.to(device)).data.item())    # get loss\n",
    "#     test_actual.append(np.array(y))\n",
    "    \n",
    "# train_predictions = []\n",
    "# train_actual = []\n",
    "# for batch in train_batches:\n",
    "#     x, y = batch\n",
    "#     pred = squeezenet(x.to(device))\n",
    "#     train_predictions.append(predict(pred))\n",
    "#     train_actual.append(np.array(y))\n",
    "\n",
    "print(classification_report(\n",
    "    np.concatenate(train_actual),\n",
    "    np.concatenate(train_predictions),\n",
    "    labels = range(len(label_names)),\n",
    "    target_names = label_names\n",
    "))\n",
    "\n",
    "\n",
    "print(classification_report(\n",
    "    np.concatenate(test_actual),\n",
    "    np.concatenate(test_predictions),\n",
    "    labels = range(len(label_names)),\n",
    "    target_names = label_names\n",
    "))"
   ]
  },
  {
   "cell_type": "code",
   "execution_count": 11,
   "metadata": {},
   "outputs": [],
   "source": [
    "batch = next(iter(train_batches))"
   ]
  },
  {
   "cell_type": "code",
   "execution_count": 12,
   "metadata": {},
   "outputs": [
    {
     "data": {
      "text/plain": [
       "61505536"
      ]
     },
     "execution_count": 12,
     "metadata": {},
     "output_type": "execute_result"
    }
   ],
   "source": [
    "# x = batch[0]\n",
    "# y = batch[1]\n",
    "# alexnet(x)\n",
    "torch.cuda.memory_allocated()"
   ]
  },
  {
   "cell_type": "raw",
   "metadata": {},
   "source": []
  },
  {
   "cell_type": "code",
   "execution_count": 13,
   "metadata": {},
   "outputs": [
    {
     "data": {
      "text/plain": [
       "SqueezeNet(\n",
       "  (features): Sequential(\n",
       "    (0): Conv2d(3, 64, kernel_size=(3, 3), stride=(2, 2))\n",
       "    (1): ReLU(inplace)\n",
       "    (2): MaxPool2d(kernel_size=3, stride=2, padding=0, dilation=1, ceil_mode=True)\n",
       "    (3): Fire(\n",
       "      (squeeze): Conv2d(64, 16, kernel_size=(1, 1), stride=(1, 1))\n",
       "      (squeeze_activation): ReLU(inplace)\n",
       "      (expand1x1): Conv2d(16, 64, kernel_size=(1, 1), stride=(1, 1))\n",
       "      (expand1x1_activation): ReLU(inplace)\n",
       "      (expand3x3): Conv2d(16, 64, kernel_size=(3, 3), stride=(1, 1), padding=(1, 1))\n",
       "      (expand3x3_activation): ReLU(inplace)\n",
       "    )\n",
       "    (4): Fire(\n",
       "      (squeeze): Conv2d(128, 16, kernel_size=(1, 1), stride=(1, 1))\n",
       "      (squeeze_activation): ReLU(inplace)\n",
       "      (expand1x1): Conv2d(16, 64, kernel_size=(1, 1), stride=(1, 1))\n",
       "      (expand1x1_activation): ReLU(inplace)\n",
       "      (expand3x3): Conv2d(16, 64, kernel_size=(3, 3), stride=(1, 1), padding=(1, 1))\n",
       "      (expand3x3_activation): ReLU(inplace)\n",
       "    )\n",
       "    (5): MaxPool2d(kernel_size=3, stride=2, padding=0, dilation=1, ceil_mode=True)\n",
       "    (6): Fire(\n",
       "      (squeeze): Conv2d(128, 32, kernel_size=(1, 1), stride=(1, 1))\n",
       "      (squeeze_activation): ReLU(inplace)\n",
       "      (expand1x1): Conv2d(32, 128, kernel_size=(1, 1), stride=(1, 1))\n",
       "      (expand1x1_activation): ReLU(inplace)\n",
       "      (expand3x3): Conv2d(32, 128, kernel_size=(3, 3), stride=(1, 1), padding=(1, 1))\n",
       "      (expand3x3_activation): ReLU(inplace)\n",
       "    )\n",
       "    (7): Fire(\n",
       "      (squeeze): Conv2d(256, 32, kernel_size=(1, 1), stride=(1, 1))\n",
       "      (squeeze_activation): ReLU(inplace)\n",
       "      (expand1x1): Conv2d(32, 128, kernel_size=(1, 1), stride=(1, 1))\n",
       "      (expand1x1_activation): ReLU(inplace)\n",
       "      (expand3x3): Conv2d(32, 128, kernel_size=(3, 3), stride=(1, 1), padding=(1, 1))\n",
       "      (expand3x3_activation): ReLU(inplace)\n",
       "    )\n",
       "    (8): MaxPool2d(kernel_size=3, stride=2, padding=0, dilation=1, ceil_mode=True)\n",
       "    (9): Fire(\n",
       "      (squeeze): Conv2d(256, 48, kernel_size=(1, 1), stride=(1, 1))\n",
       "      (squeeze_activation): ReLU(inplace)\n",
       "      (expand1x1): Conv2d(48, 192, kernel_size=(1, 1), stride=(1, 1))\n",
       "      (expand1x1_activation): ReLU(inplace)\n",
       "      (expand3x3): Conv2d(48, 192, kernel_size=(3, 3), stride=(1, 1), padding=(1, 1))\n",
       "      (expand3x3_activation): ReLU(inplace)\n",
       "    )\n",
       "    (10): Fire(\n",
       "      (squeeze): Conv2d(384, 48, kernel_size=(1, 1), stride=(1, 1))\n",
       "      (squeeze_activation): ReLU(inplace)\n",
       "      (expand1x1): Conv2d(48, 192, kernel_size=(1, 1), stride=(1, 1))\n",
       "      (expand1x1_activation): ReLU(inplace)\n",
       "      (expand3x3): Conv2d(48, 192, kernel_size=(3, 3), stride=(1, 1), padding=(1, 1))\n",
       "      (expand3x3_activation): ReLU(inplace)\n",
       "    )\n",
       "    (11): Fire(\n",
       "      (squeeze): Conv2d(384, 64, kernel_size=(1, 1), stride=(1, 1))\n",
       "      (squeeze_activation): ReLU(inplace)\n",
       "      (expand1x1): Conv2d(64, 256, kernel_size=(1, 1), stride=(1, 1))\n",
       "      (expand1x1_activation): ReLU(inplace)\n",
       "      (expand3x3): Conv2d(64, 256, kernel_size=(3, 3), stride=(1, 1), padding=(1, 1))\n",
       "      (expand3x3_activation): ReLU(inplace)\n",
       "    )\n",
       "    (12): Fire(\n",
       "      (squeeze): Conv2d(512, 64, kernel_size=(1, 1), stride=(1, 1))\n",
       "      (squeeze_activation): ReLU(inplace)\n",
       "      (expand1x1): Conv2d(64, 256, kernel_size=(1, 1), stride=(1, 1))\n",
       "      (expand1x1_activation): ReLU(inplace)\n",
       "      (expand3x3): Conv2d(64, 256, kernel_size=(3, 3), stride=(1, 1), padding=(1, 1))\n",
       "      (expand3x3_activation): ReLU(inplace)\n",
       "    )\n",
       "  )\n",
       "  (classifier): Sequential(\n",
       "    (0): Dropout(p=0.5)\n",
       "    (1): Conv2d(512, 5, kernel_size=(1, 1), stride=(1, 1))\n",
       "    (2): ReLU(inplace)\n",
       "    (3): AvgPool2d(kernel_size=13, stride=1, padding=0)\n",
       "  )\n",
       ")"
      ]
     },
     "execution_count": 13,
     "metadata": {},
     "output_type": "execute_result"
    }
   ],
   "source": [
    "squeezenet.to(\"cpu\")"
   ]
  },
  {
   "cell_type": "code",
   "execution_count": null,
   "metadata": {},
   "outputs": [],
   "source": []
  }
 ],
 "metadata": {
  "kernelspec": {
   "display_name": "Python 3",
   "language": "python",
   "name": "python3"
  },
  "language_info": {
   "codemirror_mode": {
    "name": "ipython",
    "version": 3
   },
   "file_extension": ".py",
   "mimetype": "text/x-python",
   "name": "python",
   "nbconvert_exporter": "python",
   "pygments_lexer": "ipython3",
   "version": "3.6.7"
  }
 },
 "nbformat": 4,
 "nbformat_minor": 2
}
